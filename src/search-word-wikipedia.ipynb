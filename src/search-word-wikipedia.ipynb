{
  "cells": [
    {
      "cell_type": "markdown",
      "metadata": {
        "id": "view-in-github",
        "colab_type": "text"
      },
      "source": [
        "<a href=\"https://colab.research.google.com/github/idutsu/kirikuchikun-ai/blob/main/src/search-word-wikipedia.ipynb\" target=\"_parent\"><img src=\"https://colab.research.google.com/assets/colab-badge.svg\" alt=\"Open In Colab\"/></a>"
      ]
    },
    {
      "cell_type": "code",
      "execution_count": 1,
      "metadata": {
        "id": "0KiZm5nASjrW",
        "colab": {
          "base_uri": "https://localhost:8080/"
        },
        "outputId": "49cb1f63-1e8c-4d2e-b8f4-78b98e4e48cb"
      },
      "outputs": [
        {
          "output_type": "stream",
          "name": "stdout",
          "text": [
            "Mounted at /content/drive\n"
          ]
        }
      ],
      "source": [
        "from google.colab import drive\n",
        "drive.mount('/content/drive')"
      ]
    },
    {
      "cell_type": "code",
      "execution_count": null,
      "metadata": {
        "id": "YBusl4_07gtx"
      },
      "outputs": [],
      "source": [
        "# 必要なライブラリをインストール\n",
        "!apt-get install -y mecab libmecab-dev mecab-ipadic-utf8\n",
        "!pip install mecab-python3 gensim tqdm\n",
        "!pip install unidic\n",
        "!python -m unidic download\n",
        "\n",
        "import pandas as pd\n",
        "import json\n",
        "import MeCab\n",
        "from gensim.models import KeyedVectors\n",
        "\n",
        "# インデックスCSVファイルのパス\n",
        "index_csv_path = \"/content/drive/MyDrive/kirikuchikun-ai/wikipedia_json_output/index.csv\"\n",
        "# Word2Vecモデルのパス\n",
        "word2vec_model_path = \"/content/drive/MyDrive/kirikuchikun-ai/jawiki.all_vectors.200d.txt\"\n",
        "\n",
        "# Word2Vecモデルをロード\n",
        "print(\"Word2Vecモデルをロード中...\")\n",
        "word_vectors = KeyedVectors.load_word2vec_format(word2vec_model_path, binary=False)\n",
        "print(\"Word2Vecモデルのロードが完了しました。\")\n",
        "\n",
        "# MeCabの初期化\n",
        "mecab = MeCab.Tagger()\n",
        "\n",
        "def extract_words(text):\n",
        "    \"\"\"\n",
        "    テキストを形態素解析して名詞、形容詞、動詞、副詞を抽出する。\n",
        "    \"\"\"\n",
        "    allowed_pos = [\"名詞\", \"形容詞\", \"動詞\", \"副詞\"]\n",
        "    parsed = mecab.parse(text).splitlines()\n",
        "    words = []\n",
        "    for line in parsed:\n",
        "        if \"\\t\" in line:\n",
        "            surface, features = line.split(\"\\t\")\n",
        "            pos = features.split(\",\")[0]  # 品詞\n",
        "            if pos in allowed_pos:\n",
        "                words.append(surface)\n",
        "    return words\n",
        "\n",
        "def calculate_similarity(word, target_word, word_vectors):\n",
        "    \"\"\"\n",
        "    Word2Vecで類似度を計算する。\n",
        "    \"\"\"\n",
        "    try:\n",
        "        return word_vectors.similarity(word, target_word)\n",
        "    except KeyError:\n",
        "        return None  # モデルに単語が存在しない場合\n",
        "\n",
        "# インデックスCSVを読み込む\n",
        "df = pd.read_csv(index_csv_path)\n",
        "\n"
      ]
    },
    {
      "cell_type": "code",
      "source": [
        "\n",
        "# 検索したいタイトルとターゲット単語\n",
        "search_title = \"手錠\"\n",
        "target_word = \"手錠\"\n",
        "\n",
        "# タイトルが完全一致する行を検索\n",
        "matched_rows = df[df['title'] == search_title]\n",
        "\n",
        "if not matched_rows.empty:\n",
        "    # 一致するタイトルが見つかった場合\n",
        "    for _, row in matched_rows.iterrows():\n",
        "        file_path = row['file_path']\n",
        "        print(f\"タイトル「{search_title}」が見つかりました。ファイルパス: {file_path}\")\n",
        "\n",
        "        # 対応するJSONファイルを読み込む\n",
        "        try:\n",
        "            with open(file_path, 'r', encoding='utf-8') as f:\n",
        "                for line in f:\n",
        "                    data = json.loads(line)\n",
        "                    if data.get('title') == search_title:\n",
        "                        text = data.get('text', \"\")\n",
        "                        print(\"テキスト取得完了。形態素解析中...\\n\")\n",
        "\n",
        "                        # 形態素解析で単語を抽出\n",
        "                        extracted_words = extract_words(text)\n",
        "                        print(f\"抽出された単語数: {len(extracted_words)}\")\n",
        "\n",
        "                        # Word2Vecで類似度を計算\n",
        "                        print(f\"\\n「{target_word}」との類似度が高い単語:\")\n",
        "                        for word in extracted_words:\n",
        "                            similarity = calculate_similarity(word, target_word, word_vectors)\n",
        "                            if similarity is not None and similarity > 0.3:  # しきい値0.3\n",
        "                                print(f\"{word}: {similarity:.4f}\")\n",
        "                        break  # 完全一致したタイトルの処理が完了したら終了\n",
        "        except Exception as e:\n",
        "            print(f\"ファイルの読み込み中にエラーが発生しました: {e}\")\n",
        "else:\n",
        "    print(f\"タイトル「{search_title}」はインデックスに存在しません。\")"
      ],
      "metadata": {
        "id": "rgKidpBHQZ7B"
      },
      "execution_count": null,
      "outputs": []
    },
    {
      "cell_type": "markdown",
      "source": [],
      "metadata": {
        "id": "MI1U6MyBQZoA"
      }
    }
  ],
  "metadata": {
    "accelerator": "GPU",
    "colab": {
      "gpuType": "A100",
      "machine_shape": "hm",
      "provenance": [],
      "include_colab_link": true
    },
    "kernelspec": {
      "display_name": "Python 3",
      "name": "python3"
    },
    "language_info": {
      "name": "python"
    }
  },
  "nbformat": 4,
  "nbformat_minor": 0
}