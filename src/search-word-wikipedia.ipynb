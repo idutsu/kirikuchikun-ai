{
  "cells": [
    {
      "cell_type": "markdown",
      "metadata": {
        "colab_type": "text",
        "id": "view-in-github"
      },
      "source": [
        "<a href=\"https://colab.research.google.com/github/idutsu/kirikuchikun-ai/blob/main/src/search-word-wikipedia.ipynb\" target=\"_parent\"><img src=\"https://colab.research.google.com/assets/colab-badge.svg\" alt=\"Open In Colab\"/></a>"
      ]
    },
    {
      "cell_type": "code",
      "execution_count": null,
      "metadata": {
        "id": "0KiZm5nASjrW"
      },
      "outputs": [],
      "source": [
        "from google.colab import drive\n",
        "drive.mount('/content/drive')"
      ]
    },
    {
      "cell_type": "code",
      "execution_count": 27,
      "metadata": {
        "colab": {
          "base_uri": "https://localhost:8080/"
        },
        "id": "YBusl4_07gtx",
        "outputId": "42953a1c-bcab-44a4-a881-d5f3157ca155"
      },
      "outputs": [
        {
          "name": "stdout",
          "output_type": "stream",
          "text": [
            "Requirement already satisfied: tqdm in /usr/local/lib/python3.10/dist-packages (4.66.6)\n"
          ]
        },
        {
          "name": "stderr",
          "output_type": "stream",
          "text": [
            "処理中: /content/drive/MyDrive/kirikuchikun-ai/wikipedia_json_output/AA: 100%|██████████| 100/100 [00:00<00:00, 114.98it/s]\n",
            "処理中: /content/drive/MyDrive/kirikuchikun-ai/wikipedia_json_output/AB: 100%|██████████| 100/100 [00:00<00:00, 111.26it/s]\n",
            "処理中: /content/drive/MyDrive/kirikuchikun-ai/wikipedia_json_output/AC: 100%|██████████| 100/100 [00:00<00:00, 116.50it/s]\n",
            "処理中: /content/drive/MyDrive/kirikuchikun-ai/wikipedia_json_output/AD: 100%|██████████| 100/100 [00:00<00:00, 114.86it/s]\n",
            "処理中: /content/drive/MyDrive/kirikuchikun-ai/wikipedia_json_output/AE:  92%|█████████▏| 92/100 [00:00<00:00, 111.67it/s]"
          ]
        },
        {
          "name": "stdout",
          "output_type": "stream",
          "text": [
            "\n",
            "【Title】: 手錠\n",
            "【File Path】: /content/drive/MyDrive/kirikuchikun-ai/wikipedia_json_output/AE/wiki_92.json\n",
            "【Text】: \n",
            "手錠（てじょう、）とは、手を自己または他人が物理的に動きにくくする器具である。一般的には司法警察職員が被疑者を逮捕、拘束する時、また、保護しようとした精神錯乱者・酩酊者(泥酔者を含む)が暴れるなどして自己または他人の生命、身体または財産に危害を及ぼす事態において危険な場合などに用いる。\n",
            "性質.\n",
            "手錠は被拘束者の手の自由を不完全に奪うことができる。ただし下半身にはあまり制約が加えられないため、身体的には逃走は可能であり、衣類のボタンの掛け外しなどは支障なく行える。ただし腕を大きく振れないため、走ることには制約がつきまとい、バランスを取るのは難しい。その上開錠や破壊をせずに外すことはほぼ不可能なため、逃走した場合の被拘束者を示す格好の目印になる。また、こうしたことから、手錠や江戸時代の手鎖は、行動や表現の自由を形として奪うものという性格が指摘できる。ただし、現代日本において、連行用の手錠には捕縄（腰縄）が付けられており、手錠をはめると同時に捕縄で両手を腰部にくくりつけられるという形態であるため、より行動が制限される。「警察24時」でもPRのため、逮捕時に被疑者に手錠をかける様子を必ず収録させるが、その際に捕縄も手錠とともに装着させられることがある。\n",
            "同種の拘束具に、両手の親指にはめて腕の自由を制限する指錠、足首にはめて逃走を防止する足錠というものもある（歩幅が大きく広がらないよう鎖で制限されているため、早く歩くのも困難）。\n",
            "手錠が普及するまでは捕縄術が教授されていた。\n",
            "逮捕と手錠.\n",
            "手錠に対し、しばしば「被疑者を逮捕する際、手錠をかけなければならない」「手錠は逮捕するための道具である」と認識されることもあるが、検察官などによる逮捕執行には手錠は用いられない事を見ても分かるように、誤った認識である。前述の通り、「警察24時」でもPRのために手錠や捕縄をかける場面を収録させる。\n",
            "手錠をかける場合、可動部が手首の上に来るようにかけ、ダブルロックする（手錠はただかけただけではどこまでも締まり続けるので、ダブルロックしない状態で暴れると必要以上に締め付けられ、怪我をする恐れがあるため）。\n",
            "原則的に日本の警察官が装備している手錠は一つだが、繁華街などでは手錠を二つ腰に装備した警察官がいる。アメリカの犯罪多発地域でも、二つ手錠をぶらさげた警察官がよく見受けられる。\n",
            "使われている手錠も警官が普段装備している物や連行に使われる物、法務省が使う金色の物など様々な種類がある。連行に使われる手錠は三連鎖で、真ん中の鎖の径が捕縄をつけるように大きくなっている。\n",
            "映画などでは民間人や非番の警察官が旅客機のハイジャックに遭遇して犯人を拘束する場合、手錠の代用としてビニールテープやガムテープを何重にも巻きつける場面が見られることがある。\n",
            "刑訴法213条にもあるように、常人でも現行犯逮捕は可能（私人逮捕）であるとともに、警棒やスタンガン、催涙スプレーとは違い、手錠の携帯は特に法規制されていないため、民間人も手錠を装備することが可能である。しかし、むやみに手錠を使用すると逮捕・監禁罪()に抵触する恐れがある。また、逮捕後は即座に司法警察職員へ身柄を受け渡す必要がある()ため、注意が必要である。\n",
            "材質と構造.\n",
            "通常は金属製だが、フレックスカフと呼ばれる樹脂製のものもある。これはかつては電工用の結束バンドと同種のものであったが、現在では専用の樹脂手錠が作られている。こちらは主にアメリカ合衆国で、被逮捕者を多数出す事が予想される強制捜査などに使用されており、パトロール部門から特殊部隊まで利用される分野は幅広い。切断する事無しに開錠できない使い捨ての物もあれば、通常の手錠と同じように鍵で開錠し再利用できるものもある。\n",
            "日本における一般的な警察官の手錠は以前はニッケルめっきされた鋼鉄製の重厚なものであったが、被疑者を拘束するのは事実上捜査員のみになっており、制服警官は現行犯逮捕でもしない限りほとんど使用する機会がないため、拳銃・警棒と共に装備軽量化が図られ黒色アルミ合金製の物に変更された（状況によっては予備弾や無線機まで持たねばならないわけで、フル装備になると帯革も含めたその重さで腰痛を患う者が続出したという。旧形式の帯革が負革付きで、更に冬上着には支えの金属フックまで縫い付けられていたのはこのため）。しかし簡単にペンチやニッパーなど市販の工具で破壊できるようになり、凶悪犯や外国人犯罪者に対して通常逮捕（逮捕状の執行）に行く場合などは旧型手錠に捕縛紐を付けたものが使われる事もある(現行アルミ手錠も鎖は鋼鉄製)。\n",
            "なお、日本では1972年、手錠を付けた被疑者が逃走している最中、市販の金ノコで手錠の鎖を切断した事件も発生している。\n",
            "また、アメリカでは炭素鋼の手錠が一般的であり、多くの法執行機関で原則的にスミス&amp;ウェッソンやPeerless、Hiattなど限られたメーカーの、ニッケルめっきされたシルバーの手錠を使うように定められている（アメリカで使われている手錠は同じモデルでもガンブルーとシルバーの二色のラインナップがあるが、ガンブルー(黒色酸化皮膜)はニッケルメッキの表面処理に比べ剥げやすく、露出した部分から赤錆が進行するため）。\n",
            "日本で採用されている手錠の構造は、諸外国のものとはかなり違い、非常に珍しいものである。現在海外で使用されている手錠はラチェット式(可動部のギザギザが返しとなってロックする)のシンプルな構造なのに対し、日本で使用されている手錠はロータリーロッキング式(可動部に穴(窪み)があり機関部内の歯車とかみ合うことでロックする)を採用した複雑な構造である。日本はこの構造で特許を取っている。\n",
            "販売.\n",
            "日本では司法機関で使用する製品（官給品）が市中に出回ることが禁止されている。手錠の一つ一つに管理番号が刻印されているため、たとえ闇市場などに流通しても出所が確認できる。また、民間人はもちろんのこと、警察官や看守などの正当な職務者であっても、私的に購入・所持することもできない（過去には、警察官が官給品を私的に購入することが可能な時代もあった）。他方、日本国内であっても、アジア製など粗悪なものを含め、防犯グッズ店、マニア店や通信販売で、鍵がなければ開かない真正品が容易に入手できる(中には警察に納入しているメーカーが製造した、シリアルナンバーの入っていないレプリカなども)。アメリカでは警察官・保安官が消耗した装備品を個人購入出来ることもあり、市販されている（ピアリス、スミス&amp;ウェッソン、ビアンキ・インターナショナルなどが有名）。\n",
            "拘束とメディア.\n",
            "日本におけるニュース映像などでは1990年代頃から、被疑者に掛けられた手錠を極力映さないようにし、映った場合もその部分にはモザイク処理などで隠されている。これは、ロス疑惑において三浦和義が「\"有罪が確定していない、推定無罪の被疑者を晒し者にする\"」として訴訟を起こしたことがきっかけとなった。\n",
            "同様にフランスなどでも拘束された囚人撮影に制限がある。\n",
            "\n",
            "完全一致するタイトルが見つかりました。処理を終了します。\n"
          ]
        },
        {
          "name": "stderr",
          "output_type": "stream",
          "text": [
            "\n"
          ]
        }
      ],
      "source": [
        "# 必要なライブラリをインストール\n",
        "!pip install tqdm\n",
        "\n",
        "import os\n",
        "import json\n",
        "from tqdm import tqdm\n",
        "\n",
        "# 検索対象ディレクトリと単語\n",
        "base_directory = \"/content/drive/MyDrive/kirikuchikun-ai/wikipedia_json_output\"  # JSONファイルが格納されているディレクトリ\n",
        "exact_title = \"手錠\"  # 完全一致で検索するタイトル\n",
        "\n",
        "def search_exact_title_and_exit(base_dir, exact_title):\n",
        "    \"\"\"\n",
        "    指定したディレクトリ内のJSONファイルを再帰的に処理し、\n",
        "    タイトルが完全一致する記事を見つけた時点で終了する。\n",
        "\n",
        "    Parameters:\n",
        "    - base_dir: 親ディレクトリのパス\n",
        "    - exact_title: 完全一致で検索するタイトル\n",
        "    \"\"\"\n",
        "    # ディレクトリを探索\n",
        "    for root, _, files in os.walk(base_dir):\n",
        "        json_files = [f for f in files if f.endswith(\".json\")]\n",
        "        if not json_files:\n",
        "            continue\n",
        "\n",
        "        for json_file in tqdm(json_files, desc=f\"処理中: {root}\"):\n",
        "            file_path = os.path.join(root, json_file)\n",
        "\n",
        "            try:\n",
        "                # JSONファイルを1行ずつ読み込み\n",
        "                with open(file_path, 'r', encoding='utf-8') as infile:\n",
        "                    for line in infile:\n",
        "                        if not line.strip():  # 空行をスキップ\n",
        "                            continue\n",
        "                        try:\n",
        "                            data = json.loads(line)\n",
        "                            title = data.get(\"title\", \"\")\n",
        "                            text = data.get(\"text\", \"\")\n",
        "\n",
        "                            # タイトルが完全一致するかチェック\n",
        "                            if title == exact_title:\n",
        "                                print(f\"\\n【Title】: {title}\")\n",
        "                                print(f\"【File Path】: {file_path}\")\n",
        "                                print(f\"【Text】: \\n{text}\\n\")\n",
        "                                print(\"完全一致するタイトルが見つかりました。処理を終了します。\")\n",
        "                                return  # 見つかったら終了\n",
        "                        except json.JSONDecodeError:\n",
        "                            continue\n",
        "            except Exception as e:\n",
        "                print(f\"エラー: {file_path} - {e}\")\n",
        "\n",
        "    print(f\"\\n検索完了: タイトルが「{exact_title}」と完全一致する記事は見つかりませんでした。\")\n",
        "\n",
        "# 関数の実行\n",
        "search_exact_title_and_exit(base_directory, exact_title)\n"
      ]
    }
  ],
  "metadata": {
    "accelerator": "GPU",
    "colab": {
      "authorship_tag": "ABX9TyOmhPIrsUOoefX5U3Viao0i",
      "gpuType": "A100",
      "include_colab_link": true,
      "machine_shape": "hm",
      "mount_file_id": "17eM35Xsw_rtPRTOdasfO00LF57TlseJC",
      "provenance": []
    },
    "kernelspec": {
      "display_name": "Python 3",
      "name": "python3"
    },
    "language_info": {
      "name": "python"
    }
  },
  "nbformat": 4,
  "nbformat_minor": 0
}
