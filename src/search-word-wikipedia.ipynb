{
  "cells": [
    {
      "cell_type": "markdown",
      "metadata": {
        "id": "view-in-github",
        "colab_type": "text"
      },
      "source": [
        "<a href=\"https://colab.research.google.com/github/idutsu/kirikuchikun-ai/blob/main/src/search-word-wikipedia.ipynb\" target=\"_parent\"><img src=\"https://colab.research.google.com/assets/colab-badge.svg\" alt=\"Open In Colab\"/></a>"
      ]
    },
    {
      "cell_type": "code",
      "execution_count": 1,
      "metadata": {
        "id": "0KiZm5nASjrW",
        "outputId": "49cb1f63-1e8c-4d2e-b8f4-78b98e4e48cb",
        "colab": {
          "base_uri": "https://localhost:8080/"
        }
      },
      "outputs": [
        {
          "output_type": "stream",
          "name": "stdout",
          "text": [
            "Mounted at /content/drive\n"
          ]
        }
      ],
      "source": [
        "from google.colab import drive\n",
        "drive.mount('/content/drive')"
      ]
    },
    {
      "cell_type": "code",
      "execution_count": null,
      "metadata": {
        "id": "YBusl4_07gtx"
      },
      "outputs": [],
      "source": [
        "# 必要なライブラリをインストール\n",
        "!apt-get install -y mecab libmecab-dev mecab-ipadic-utf8\n",
        "!pip install mecab-python3 gensim tqdm\n",
        "!pip install unidic\n",
        "!python -m unidic download\n",
        "\n",
        "# 必要なモジュールをインポート\n",
        "import os\n",
        "import json\n",
        "import MeCab\n",
        "from tqdm import tqdm\n",
        "from gensim.models import KeyedVectors\n",
        "\n",
        "# Word2Vecモデルをロード (学習済みモデルのパス)\n",
        "word2vec_model_path = \"/content/drive/MyDrive/kirikuchikun-ai/jawiki.all_vectors.200d.txt\"  # 事前にアップロードしたパスに変更してください\n",
        "print(\"Word2Vecモデルをロード中...\")\n",
        "word_vectors = KeyedVectors.load_word2vec_format(word2vec_model_path, binary=False)\n",
        "print(\"Word2Vecモデルのロードが完了しました。\")\n",
        "\n",
        "# MeCab初期化\n",
        "mecab = MeCab.Tagger()\n",
        "\n",
        "# ベースディレクトリと検索条件\n",
        "base_directory = \"/content/drive/MyDrive/kirikuchikun-ai/wikipedia_json_output\"  # JSONファイルが格納されているディレクトリ\n",
        "\n",
        "\n",
        "# 形態素解析して、指定した品詞を抽出する関数\n",
        "def extract_words(text):\n",
        "    \"\"\"\n",
        "    テキストを形態素解析して名詞、形容詞、動詞、副詞を抽出する。\n",
        "    \"\"\"\n",
        "    allowed_pos = [\"名詞\", \"形容詞\", \"動詞\", \"副詞\"]\n",
        "    parsed = mecab.parse(text).splitlines()\n",
        "    words = []\n",
        "    for line in parsed:\n",
        "        if \"\\t\" in line:\n",
        "            surface, features = line.split(\"\\t\")\n",
        "            pos = features.split(\",\")[0]  # 品詞\n",
        "            if pos in allowed_pos:\n",
        "                words.append(surface)\n",
        "    return words\n",
        "\n",
        "# Word2Vecで類似度を計算する関数\n",
        "def calculate_similarity(word, target_word, word_vectors):\n",
        "    try:\n",
        "        return word_vectors.similarity(word, target_word)\n",
        "    except KeyError:\n",
        "        return None  # モデルに単語が存在しない場合\n",
        "\n",
        "# JSONファイルを探索して処理する関数\n",
        "def search_title_and_calculate_similarity(base_dir, exact_title, target_word):\n",
        "    for root, _, files in os.walk(base_dir):\n",
        "        json_files = [f for f in files if f.endswith(\".json\")]\n",
        "        for json_file in tqdm(json_files, desc=f\"処理中: {root}\"):\n",
        "            file_path = os.path.join(root, json_file)\n",
        "            try:\n",
        "                with open(file_path, \"r\", encoding=\"utf-8\") as infile:\n",
        "                    for line in infile:\n",
        "                        if not line.strip():\n",
        "                            continue\n",
        "                        try:\n",
        "                            data = json.loads(line)\n",
        "                            title = data.get(\"title\", \"\")\n",
        "                            text = data.get(\"text\", \"\")\n",
        "\n",
        "                            if title == exact_title:\n",
        "                                print(f\"\\n【Title】: {title}\")\n",
        "                                print(f\"【File Path】: {file_path}\")\n",
        "                                print(\"テキスト取得完了。形態素解析中...\\n\")\n",
        "\n",
        "                                # 形態素解析で単語を抽出\n",
        "                                extracted_words = extract_words(text)\n",
        "                                print(f\"抽出された単語数: {len(extracted_words)}\")\n",
        "\n",
        "                                # Word2Vecで類似度を計算\n",
        "                                print(f\"\\n「{target_word}」との類似度が高い単語:\")\n",
        "                                for word in extracted_words:\n",
        "                                    similarity = calculate_similarity(word, target_word, word_vectors)\n",
        "                                    if similarity is not None and similarity > 0.3:  # しきい値0.3\n",
        "                                        print(f\"{word}: {similarity:.4f}\")\n",
        "                                return  # 完全一致したタイトルの処理が完了したら終了\n",
        "\n",
        "                        except json.JSONDecodeError:\n",
        "                            continue\n",
        "            except Exception as e:\n",
        "                print(f\"エラー: {file_path} - {e}\")\n",
        "\n",
        "    print(f\"\\n検索完了: タイトルが「{exact_title}」と完全一致する記事は見つかりませんでした。\")\n"
      ]
    },
    {
      "cell_type": "code",
      "source": [
        "\n",
        "exact_title = \"手錠\"  # 完全一致で検索するタイトル\n",
        "target_word = \"手錠\"  # 類似度を計算する対象単語\n",
        "\n",
        "# 関数を実行\n",
        "search_title_and_calculate_similarity(base_directory, exact_title, target_word)\n"
      ],
      "metadata": {
        "id": "qpKfPwpqDJeD"
      },
      "execution_count": null,
      "outputs": []
    }
  ],
  "metadata": {
    "accelerator": "GPU",
    "colab": {
      "gpuType": "A100",
      "machine_shape": "hm",
      "provenance": [],
      "toc_visible": true,
      "include_colab_link": true
    },
    "kernelspec": {
      "display_name": "Python 3",
      "name": "python3"
    },
    "language_info": {
      "name": "python"
    }
  },
  "nbformat": 4,
  "nbformat_minor": 0
}