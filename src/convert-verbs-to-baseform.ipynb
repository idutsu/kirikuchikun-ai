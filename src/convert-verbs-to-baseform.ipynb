{
  "cells": [
    {
      "cell_type": "markdown",
      "metadata": {
        "id": "view-in-github",
        "colab_type": "text"
      },
      "source": [
        "<a href=\"https://colab.research.google.com/github/idutsu/kirikuchikun-ai/blob/main/src/convert-verbs-to-baseform.ipynb\" target=\"_parent\"><img src=\"https://colab.research.google.com/assets/colab-badge.svg\" alt=\"Open In Colab\"/></a>"
      ]
    },
    {
      "cell_type": "code",
      "execution_count": null,
      "metadata": {
        "collapsed": true,
        "id": "CPmTV9zo80Ea"
      },
      "outputs": [],
      "source": [
        "from google.colab import drive\n",
        "drive.mount('/content/drive')"
      ]
    },
    {
      "cell_type": "code",
      "execution_count": null,
      "metadata": {
        "id": "9_v_wIq080Ea"
      },
      "outputs": [],
      "source": [
        "!apt-get install -y mecab libmecab-dev mecab-ipadic-utf8\n",
        "!pip install mecab-python3 pandas\n",
        "!pip install ipadic\n",
        "!python -m ipadic download"
      ]
    },
    {
      "cell_type": "code",
      "execution_count": null,
      "metadata": {
        "id": "gAKSbDT380Eb"
      },
      "outputs": [],
      "source": [
        "import pandas as pd\n",
        "import MeCab\n",
        "import ipadic\n",
        "\n",
        "# MeCabを使って動詞を辞書形に修正する\n",
        "\n",
        "# 入力CSVファイルと出力CSVファイルのパス\n",
        "input_csv = \"/content/drive/MyDrive/kirikuchikun-ai/csv/wikipedia-a-to-b.csv\" # 元のCSVファイル\n",
        "output_csv = \"/content/drive/MyDrive/kirikuchikun-ai/csv/wikipedia-a-to-b-fixed.csv\"  # 修正後のCSVファイル\n",
        "\n",
        "# MeCabの初期化（辞書パス指定なしでunidicを使用）\n",
        "tagger = MeCab.Tagger(ipadic.MECAB_ARGS)\n",
        "\n",
        "# CSVファイルを読み込む\n",
        "try:\n",
        "    df = pd.read_csv(input_csv)\n",
        "    print(f\"読み込んだCSVの行数: {len(df)}\")\n",
        "\n",
        "     # Extracted_Phraseの動詞を辞書形に修正\n",
        "    def convert_to_base_form(phrase):\n",
        "        tokens = tagger.parse(phrase).splitlines()\n",
        "        base_phrase = []  # 修正後のフレーズ\n",
        "        for token in tokens:\n",
        "            if '\\t' not in token:  # EOSや空行をスキップ\n",
        "                continue\n",
        "            surface, features = token.split('\\t')  # 表層形と品詞情報\n",
        "            features = features.split(',')\n",
        "            pos = features[0]  # 品詞\n",
        "            base_form = features[6] if len(features) > 6 and features[6] != '*' else surface\n",
        "            # 動詞の基本形を使用\n",
        "            if pos == '動詞':\n",
        "                base_phrase.append(base_form)\n",
        "            else:\n",
        "                base_phrase.append(surface)\n",
        "        return ''.join(base_phrase)\n",
        "\n",
        "    # DataFrameのExtracted_Phrase列を変換\n",
        "    df['Extracted_Phrase'] = df['Extracted_Phrase'].apply(convert_to_base_form)\n",
        "\n",
        "    # 修正後のデータを新しいCSVファイルに保存\n",
        "    df.to_csv(output_csv, index=False, encoding='utf-8-sig')\n",
        "    print(f\"修正後のCSVファイルを保存しました: {output_csv}\")\n",
        "\n",
        "except Exception as e:\n",
        "    print(f\"エラーが発生しました: {e}\")"
      ]
    },
    {
      "cell_type": "code",
      "source": [
        "\n",
        "# 行数を確認\n",
        "input_df = pd.read_csv(input_csv)\n",
        "output_df = pd.read_csv(output_csv)\n",
        "\n",
        "print(f\"入力CSVの行数: {len(input_df)}\")\n",
        "print(f\"出力CSVの行数: {len(output_df)}\")\n",
        "\n",
        "if len(input_df) == len(output_df):\n",
        "    print(\"行数が一致しています。処理は正常です。\")\n",
        "else:\n",
        "    print(\"行数が一致しません！処理に問題があります。\")\n"
      ],
      "metadata": {
        "id": "MMAHLY6HHzoi"
      },
      "execution_count": null,
      "outputs": []
    },
    {
      "cell_type": "code",
      "source": [
        "# 比較する行番号（0からカウント）\n",
        "target_row = 10  # 例：10行目\n",
        "\n",
        "# 行数チェック\n",
        "if target_row < len(input_df) and target_row < len(output_df):\n",
        "    input_row = input_df.iloc[target_row]\n",
        "    output_row = output_df.iloc[target_row]\n",
        "\n",
        "    print(f\"--- {target_row} 行目の比較 ---\")\n",
        "    print(\"【入力データ】\")\n",
        "    print(input_row)\n",
        "    print(\"\\n【出力データ】\")\n",
        "    print(output_row)\n",
        "\n",
        "    # 差分の確認\n",
        "    print(\"\\n【差分】\")\n",
        "    for column in input_df.columns:\n",
        "        if input_row[column] != output_row[column]:\n",
        "            print(f\"カラム: {column} | 入力: {input_row[column]} | 出力: {output_row[column]}\")\n",
        "else:\n",
        "    print(f\"指定した行番号 {target_row} は範囲外です。入力CSV: {len(input_df)} 行, 出力CSV: {len(output_df)} 行\")"
      ],
      "metadata": {
        "id": "p4xVigA4IPGR"
      },
      "execution_count": null,
      "outputs": []
    }
  ],
  "metadata": {
    "language_info": {
      "name": "python"
    },
    "colab": {
      "provenance": [],
      "machine_shape": "hm",
      "gpuType": "A100",
      "include_colab_link": true
    },
    "accelerator": "GPU",
    "kernelspec": {
      "name": "python3",
      "display_name": "Python 3"
    }
  },
  "nbformat": 4,
  "nbformat_minor": 0
}