{
 "cells": [
  {
   "cell_type": "code",
   "execution_count": null,
   "metadata": {},
   "outputs": [],
   "source": [
    "from google.colab import drive\n",
    "drive.mount('/content/drive')"
   ]
  },
  {
   "cell_type": "code",
   "execution_count": null,
   "metadata": {},
   "outputs": [],
   "source": [
    "!apt-get install -y mecab libmecab-dev mecab-ipadic-utf8\n",
    "!pip install mecab-python3 pandas\n",
    "!pip install unidic\n",
    "!python -m unidic download"
   ]
  },
  {
   "cell_type": "code",
   "execution_count": null,
   "metadata": {},
   "outputs": [],
   "source": [
    "import pandas as pd\n",
    "import MeCab\n",
    "\n",
    "# MeCabを使って動詞を辞書形に修正する\n",
    "\n",
    "# 入力CSVファイルと出力CSVファイルのパス\n",
    "input_csv = \"/content/drive/MyDrive/kirikuchikun-ai/csv/wikipedia-a-to-b.csv\" # 元のCSVファイル\n",
    "output_csv = \"/content/drive/MyDrive/kirikuchikun-ai/csv/wikipedia-a-to-b-fixed.csv\"  # 修正後のCSVファイル\n",
    "\n",
    "# MeCabの初期化（辞書パス指定なしでunidicを使用）\n",
    "tagger = MeCab.Tagger()\n",
    "\n",
    "# CSVファイルを読み込む\n",
    "try:\n",
    "    df = pd.read_csv(input_csv)\n",
    "    print(f\"読み込んだCSVの行数: {len(df)}\")\n",
    "\n",
    "    # Extracted_Phraseの動詞を辞書形に修正\n",
    "    def convert_to_base_form(phrase):\n",
    "        tokens = tagger.parse(phrase).splitlines()\n",
    "        base_phrase = []  # 修正後のフレーズ\n",
    "        for token in tokens:\n",
    "            if '\\t' not in token:  # EOSや空行をスキップ\n",
    "                continue\n",
    "            surface, features = token.split('\\t')\n",
    "            features = features.split(',')\n",
    "            pos = features[0]  # 品詞\n",
    "            base_form = features[6] if len(features) > 6 and features[6] != '*' else surface\n",
    "            # 名詞や助詞はそのまま、動詞のみ基本形に置き換える\n",
    "            if pos == '動詞':\n",
    "                base_phrase.append(base_form)\n",
    "            else:\n",
    "                base_phrase.append(surface)\n",
    "        return ''.join(base_phrase)\n",
    "\n",
    "    # DataFrameのExtracted_Phrase列を変換\n",
    "    df['Extracted_Phrase'] = df['Extracted_Phrase'].apply(convert_to_base_form)\n",
    "\n",
    "    # 修正後のデータを新しいCSVファイルに保存\n",
    "    df.to_csv(output_csv, index=False, encoding='utf-8-sig')\n",
    "    print(f\"修正後のCSVファイルを保存しました: {output_csv}\")\n",
    "\n",
    "except Exception as e:\n",
    "    print(f\"エラーが発生しました: {e}\")\n"
   ]
  }
 ],
 "metadata": {
  "language_info": {
   "name": "python"
  }
 },
 "nbformat": 4,
 "nbformat_minor": 2
}
