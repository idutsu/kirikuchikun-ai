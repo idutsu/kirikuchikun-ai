{
  "nbformat": 4,
  "nbformat_minor": 0,
  "metadata": {
    "colab": {
      "provenance": [],
      "machine_shape": "hm",
      "gpuType": "A100",
      "authorship_tag": "ABX9TyN7gU+52WtggZUuiWowhHqp",
      "include_colab_link": true
    },
    "kernelspec": {
      "name": "python3",
      "display_name": "Python 3"
    },
    "language_info": {
      "name": "python"
    },
    "accelerator": "GPU"
  },
  "cells": [
    {
      "cell_type": "markdown",
      "metadata": {
        "id": "view-in-github",
        "colab_type": "text"
      },
      "source": [
        "<a href=\"https://colab.research.google.com/github/idutsu/kirikuchikun-ai/blob/main/src/mecab-wiki-a-b.ipynb\" target=\"_parent\"><img src=\"https://colab.research.google.com/assets/colab-badge.svg\" alt=\"Open In Colab\"/></a>"
      ]
    },
    {
      "cell_type": "code",
      "execution_count": 1,
      "metadata": {
        "colab": {
          "base_uri": "https://localhost:8080/"
        },
        "id": "JyfrxSLcQ4ra",
        "outputId": "d3d4b28d-98cd-4d86-fd41-b4c474ca19bd"
      },
      "outputs": [
        {
          "output_type": "stream",
          "name": "stdout",
          "text": [
            "Mounted at /content/drive\n"
          ]
        }
      ],
      "source": [
        "from google.colab import drive\n",
        "drive.mount('/content/drive')"
      ]
    },
    {
      "cell_type": "code",
      "source": [
        "!apt-get install -y mecab libmecab-dev mecab-ipadic-utf8\n",
        "!pip install mecab-python3 pandas\n",
        "!pip install unidic\n",
        "!python -m unidic download"
      ],
      "metadata": {
        "id": "g3CapMZ5RCub"
      },
      "execution_count": null,
      "outputs": []
    },
    {
      "cell_type": "code",
      "source": [
        "import os\n",
        "import csv\n",
        "import glob\n",
        "import html\n",
        "import json\n",
        "import pandas as pd\n",
        "import MeCab\n",
        "from tqdm import tqdm"
      ],
      "metadata": {
        "id": "nw6Kol6aR52S"
      },
      "execution_count": 3,
      "outputs": []
    },
    {
      "cell_type": "code",
      "source": [
        "input_csv = \"/content/drive/MyDrive/kirikuchikun-ai/csv/wikipedia-a-to-b-fixed.csv\" #入力ファイル\n",
        "output_csv = \"/content/drive/MyDrive/kirikuchikun-ai/csv/a-b.csv\"  # 出力ファイル\n",
        "#CSVファイルを読み込む\n",
        "df = pd.read_csv(input_csv)"
      ],
      "metadata": {
        "id": "RIMYkjX1RGFw"
      },
      "execution_count": 4,
      "outputs": []
    },
    {
      "cell_type": "code",
      "source": [
        "# MeCabの初期化\n",
        "tagger = MeCab.Tagger()\n",
        "\n",
        "# CSVファイルを読み込んで処理\n",
        "try:\n",
        "    # 入力CSVを読み込み\n",
        "    df = pd.read_csv(input_csv)\n",
        "\n",
        "    # 出力CSVの準備\n",
        "    with open(output_csv, 'w', newline='', encoding='utf-8') as csvfile:\n",
        "        csv_writer = csv.writer(csvfile)\n",
        "        # ヘッダーを書き込む\n",
        "        csv_writer.writerow(['noun', 'verb'])\n",
        "\n",
        "        # tqdmを使って進捗状況を表示\n",
        "        for _, row in tqdm(df.iterrows(), total=len(df), desc=\"Processing\"):\n",
        "            phrase = row['Extracted_Phrase']  # Extracted_Phrase列を取得\n",
        "            noun = \"\"  # 名詞\n",
        "            verb = \"\"  # 動詞\n",
        "\n",
        "            # MeCabで形態素解析\n",
        "            tokens = tagger.parse(phrase).splitlines()\n",
        "            token_list = []\n",
        "            for token in tokens:\n",
        "                if '\\t' in token:\n",
        "                    surface, features = token.split('\\t')\n",
        "                    features = features.split(',')\n",
        "                    pos = features[0]\n",
        "                    token_list.append((surface, pos))\n",
        "\n",
        "            # 「助詞：を」を探し、その前後を名詞と動詞として取得\n",
        "            for i in range(1, len(token_list) - 1):\n",
        "                if token_list[i][0] == \"を\" and token_list[i][1] == \"助詞\":\n",
        "                    # 「を」の前後が存在するかチェック\n",
        "                    noun = token_list[i - 1][0] if token_list[i - 1][1] == \"名詞\" else \"\"\n",
        "                    verb = token_list[i + 1][0] if token_list[i + 1][1] == \"動詞\" else \"\"\n",
        "                    break\n",
        "\n",
        "            # 欠けていても書き込む（空白のまま書き出す）\n",
        "            csv_writer.writerow([noun, verb])\n",
        "\n",
        "    print(f\"\\n処理が完了しました。結果は {output_csv} に保存されています。\")\n",
        "\n",
        "except Exception as e:\n",
        "    print(f\"エラーが発生しました: {e}\")\n",
        "\n"
      ],
      "metadata": {
        "colab": {
          "base_uri": "https://localhost:8080/"
        },
        "id": "I5tSfWJWUXYY",
        "outputId": "427d7393-917b-4907-f476-5a71ef883df3"
      },
      "execution_count": 11,
      "outputs": [
        {
          "output_type": "stream",
          "name": "stderr",
          "text": [
            "Processing: 100%|██████████| 11518679/11518679 [17:10<00:00, 11175.42it/s]"
          ]
        },
        {
          "output_type": "stream",
          "name": "stdout",
          "text": [
            "\n",
            "処理が完了しました。結果は /content/drive/MyDrive/kirikuchikun-ai/csv/a-b.csv に保存されています。\n"
          ]
        },
        {
          "output_type": "stream",
          "name": "stderr",
          "text": [
            "\n"
          ]
        }
      ]
    }
  ]
}